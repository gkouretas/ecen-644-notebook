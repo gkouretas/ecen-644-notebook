{
 "cells": [
  {
   "cell_type": "code",
   "execution_count": 1,
   "metadata": {},
   "outputs": [],
   "source": [
    "import torch\n",
    "import torchvision.datasets as dsets\n",
    "import torchvision.transforms as transforms\n",
    "\n",
    "from nnet_cnn import *\n",
    "from activation_funcs import *\n",
    "from loss_funcs import *\n"
   ]
  },
  {
   "cell_type": "code",
   "execution_count": 2,
   "metadata": {},
   "outputs": [],
   "source": [
    "np.random.seed(1)"
   ]
  },
  {
   "cell_type": "code",
   "execution_count": 3,
   "metadata": {},
   "outputs": [],
   "source": [
    "KERNEL_SIZE = 3\n",
    "OUTPUT_DEPTH = 3\n",
    "NUM_TRAINING_IMAGES = 25\n",
    "NUM_EPOCHS = 20\n",
    "LEARNING_RATE = 1.0e-9"
   ]
  },
  {
   "cell_type": "code",
   "execution_count": 4,
   "metadata": {},
   "outputs": [],
   "source": [
    "np_dtype = np.float32\n",
    "\n",
    "# Utility functions for preprocessing data\n",
    "def preprocess(data: torch.Tensor):\n",
    "    data_np: np.ndarray = data.numpy()\n",
    "    data_float = np.asarray(data_np, dtype = np_dtype)\n",
    "    data_reduced = data_float[:NUM_TRAINING_IMAGES, :, :]\n",
    "    data_reshaped = data_reduced.reshape((data_reduced.shape[0], 1, data_reduced.shape[1], data_reduced.shape[2]))\n",
    "    return data_reshaped / 255.0\n",
    "\n",
    "def encode_mnist(targets: np.ndarray):\n",
    "    encoded_targets = np.zeros((np.size(targets), 10))\n",
    "    for idx, target in enumerate(targets):\n",
    "        vec = np.zeros((10,), dtype = np_dtype)\n",
    "        vec[target] = 1\n",
    "        encoded_targets[idx, :] = vec\n",
    "\n",
    "    return encoded_targets"
   ]
  },
  {
   "cell_type": "code",
   "execution_count": 5,
   "metadata": {},
   "outputs": [],
   "source": [
    "# Acquire training data for MNIST dataset\n",
    "mnist_train = dsets.MNIST(root = 'datasets/MNIST_data/',\n",
    "                          train = True,\n",
    "                          transform = transforms.ToTensor(),\n",
    "                          download = True)\n",
    "\n",
    "input_data = preprocess(mnist_train.data)\n",
    "output_data = encode_mnist(mnist_train.targets.numpy())"
   ]
  },
  {
   "cell_type": "code",
   "execution_count": 6,
   "metadata": {},
   "outputs": [
    {
     "data": {
      "text/plain": [
       "Text(0.5, 1.0, 'MNIST dataset examples')"
      ]
     },
     "execution_count": 6,
     "metadata": {},
     "output_type": "execute_result"
    },
    {
     "data": {
      "image/png": "[encoded data removed]",
      "text/plain": [
       "<Figure size 640x480 with 5 Axes>"
      ]
     },
     "metadata": {},
     "output_type": "display_data"
    }
   ],
   "source": [
    "import matplotlib.pyplot as plt\n",
    "fig, ax = plt.subplots(1, 5, tight_layout = True)\n",
    "for i in range(5):\n",
    "    ax[i].imshow(input_data[i, 0, :, :], cmap = \"gray\")\n",
    "    ax[i].set_xticklabels([])\n",
    "    ax[i].set_yticklabels([])\n",
    "\n",
    "ax[5 // 2].set_title(\"MNIST dataset examples\")"
   ]
  },
  {
   "cell_type": "code",
   "execution_count": 7,
   "metadata": {},
   "outputs": [
    {
     "data": {
      "text/plain": [
       "InputShape(depth=1, height=28, width=28)"
      ]
     },
     "execution_count": 7,
     "metadata": {},
     "output_type": "execute_result"
    }
   ],
   "source": [
    "shape = InputShape(*input_data.shape[1:])\n",
    "shape"
   ]
  },
  {
   "cell_type": "code",
   "execution_count": 8,
   "metadata": {},
   "outputs": [],
   "source": [
    "conv2d_CV = Conv2D(\n",
    "    input_depth = shape.depth,\n",
    "    input_height = shape.height,\n",
    "    input_width = shape.width,\n",
    "    output_depth = OUTPUT_DEPTH,\n",
    "    kernel_size = KERNEL_SIZE\n",
    ")"
   ]
  },
  {
   "cell_type": "code",
   "execution_count": 9,
   "metadata": {},
   "outputs": [],
   "source": [
    "max_pool_2d_CV = MaxPool2D(\n",
    "    shape.depth, \n",
    "    shape.height - KERNEL_SIZE + 1, \n",
    "    shape.width - KERNEL_SIZE + 1\n",
    ")"
   ]
  },
  {
   "cell_type": "code",
   "execution_count": 10,
   "metadata": {},
   "outputs": [],
   "source": [
    "nnet = CNN(\n",
    "    layers = [\n",
    "        conv2d_CV,                                          # Conv2D layer\n",
    "        Sigmoid(),                                          # Sigmoid activation layer\n",
    "        max_pool_2d_CV,                                     # MaxPool2D layer\n",
    "        Sigmoid(),                                          # Sigmoid activation layer    \n",
    "        Flatten(),                                          # Reshape layer: flatten to 1D\n",
    "        Dense(np.prod(max_pool_2d_CV._output.shape), 15),   # Dense layer: (D)*(H-K+1)*(W-K+1) -> 15\n",
    "        Sigmoid(),                                          # Sigmoid activation layer\n",
    "        Dense(15, 10),                                      # Dense layer: 15 -> 10\n",
    "        Sigmoid()                                           # Sigmoid activation layer\n",
    "    ],\n",
    "    loss = MSE()                                            # Loss function: MSE\n",
    ")"
   ]
  },
  {
   "cell_type": "code",
   "execution_count": 11,
   "metadata": {},
   "outputs": [
    {
     "name": "stdout",
     "output_type": "stream",
     "text": [
      "Epoch: 1/20. Error = 4.346991410912087\n",
      "Epoch: 2/20. Error = 4.335915977895615\n",
      "Epoch: 3/20. Error = 4.332745623139882\n",
      "Epoch: 4/20. Error = 4.331476216490086\n",
      "Epoch: 5/20. Error = 4.330890766104635\n",
      "Epoch: 6/20. Error = 4.33052670672711\n",
      "Epoch: 7/20. Error = 4.330256309403419\n"
     ]
    },
    {
     "name": "stderr",
     "output_type": "stream",
     "text": [
      "c:\\school\\ecen-644-notebook\\activation_funcs.py:28: RuntimeWarning: overflow encountered in exp\n",
      "  return 1.0 / (1.0 + np.exp(-x))\n"
     ]
    },
    {
     "name": "stdout",
     "output_type": "stream",
     "text": [
      "Epoch: 8/20. Error = 4.3300396080943475\n",
      "Epoch: 9/20. Error = 4.329859707995389\n",
      "Epoch: 10/20. Error = 4.329707629893096\n",
      "Epoch: 11/20. Error = 4.329577939795863\n",
      "Epoch: 12/20. Error = 4.329466953018363\n",
      "Epoch: 13/20. Error = 4.329371867033639\n",
      "Epoch: 14/20. Error = 4.329290356152291\n",
      "Epoch: 15/20. Error = 4.329220400444984\n",
      "Epoch: 16/20. Error = 4.329160221087494\n",
      "Epoch: 17/20. Error = 4.329108256295327\n",
      "Epoch: 18/20. Error = 4.329063148237488\n",
      "Epoch: 19/20. Error = 4.329023729886749\n",
      "Epoch: 20/20. Error = 4.328989009117167\n"
     ]
    }
   ],
   "source": [
    "nnet.train(\n",
    "    input_ = input_data,\n",
    "    output_ = output_data,\n",
    "    epochs = NUM_EPOCHS,\n",
    "    rate = LEARNING_RATE\n",
    ")"
   ]
  },
  {
   "cell_type": "code",
   "execution_count": 12,
   "metadata": {},
   "outputs": [
    {
     "data": {
      "image/png": "[encoded data removed]",
      "text/plain": [
       "<Figure size 640x480 with 1 Axes>"
      ]
     },
     "metadata": {},
     "output_type": "display_data"
    }
   ],
   "source": [
    "plt.plot(1 + np.arange(20), nnet._errors)\n",
    "plt.ylabel(\"Loss\")\n",
    "plt.xlabel(\"Epochs\")\n",
    "plt.grid()"
   ]
  }
 ],
 "metadata": {
  "kernelspec": {
   "display_name": "cv",
   "language": "python",
   "name": "python3"
  },
  "language_info": {
   "codemirror_mode": {
    "name": "ipython",
    "version": 3
   },
   "file_extension": ".py",
   "mimetype": "text/x-python",
   "name": "python",
   "nbconvert_exporter": "python",
   "pygments_lexer": "ipython3",
   "version": "3.11.7"
  }
 },
 "nbformat": 4,
 "nbformat_minor": 2
}
