{
 "cells": [
  {
   "cell_type": "code",
   "execution_count": 1,
   "metadata": {},
   "outputs": [],
   "source": [
    "from pytorch_utils import *\n",
    "from preprocess import *\n",
    "from model_container import ModelContainer"
   ]
  },
  {
   "cell_type": "code",
   "execution_count": 2,
   "metadata": {},
   "outputs": [],
   "source": [
    "resnetv50 = ModelContainer(\n",
    "    nnet = get_instrument_segmentation_model_base(\n",
    "        Models.RESNETV50\n",
    "    )\n",
    ")\n",
    "\n",
    "state_dict = torch.load(\"pickled/resnet50_first.pkl\")\n",
    "resnetv50.load_model(state_dict)"
   ]
  },
  {
   "cell_type": "code",
   "execution_count": 14,
   "metadata": {},
   "outputs": [
    {
     "data": {
      "text/plain": [
       "torch.Size([3372, 3, 115, 144])"
      ]
     },
     "execution_count": 14,
     "metadata": {},
     "output_type": "execute_result"
    }
   ],
   "source": [
    "resnetv50._loader.dataset.tensors[0].shape"
   ]
  },
  {
   "cell_type": "code",
   "execution_count": 4,
   "metadata": {},
   "outputs": [],
   "source": [
    "resnetv50.load_loader(\n",
    "    \"pickled/resnet50_loader.pkl\"\n",
    ")"
   ]
  },
  {
   "cell_type": "code",
   "execution_count": 5,
   "metadata": {},
   "outputs": [
    {
     "data": {
      "text/plain": [
       "<torch.utils.data.dataset.TensorDataset at 0x270886f1950>"
      ]
     },
     "execution_count": 5,
     "metadata": {},
     "output_type": "execute_result"
    }
   ],
   "source": [
    "resnetv50._loader.dataset"
   ]
  },
  {
   "cell_type": "code",
   "execution_count": 6,
   "metadata": {},
   "outputs": [],
   "source": [
    "import matplotlib.pyplot as plt"
   ]
  },
  {
   "cell_type": "code",
   "execution_count": 7,
   "metadata": {},
   "outputs": [
    {
     "name": "stdout",
     "output_type": "stream",
     "text": [
      "Dice: 96.08660936355591%\n"
     ]
    }
   ],
   "source": [
    "# Test over 50 samples\n",
    "out = resnetv50.test(\n",
    "    resnetv50._loader.dataset.tensors[0][:100], \n",
    "    resnetv50._loader.dataset.tensors[1][:100]\n",
    ")\n",
    "\n",
    "print(f\"Dice: {out*100.0}%\")"
   ]
  },
  {
   "cell_type": "code",
   "execution_count": 16,
   "metadata": {},
   "outputs": [
    {
     "data": {
      "text/plain": [
       "torch.Size([3372, 3, 115, 144])"
      ]
     },
     "execution_count": 16,
     "metadata": {},
     "output_type": "execute_result"
    }
   ],
   "source": [
    "resnetv50._loader.dataset.tensors[0].shape"
   ]
  },
  {
   "cell_type": "code",
   "execution_count": 15,
   "metadata": {},
   "outputs": [
    {
     "data": {
      "text/plain": [
       "<matplotlib.image.AxesImage at 0x271c2073a10>"
      ]
     },
     "execution_count": 15,
     "metadata": {},
     "output_type": "execute_result"
    }
   ],
   "source": [
    "%matplotlib qt\n",
    "plt.figure()\n",
    "img, labels = get_random_image(resnetv50._loader.dataset)\n",
    "\n",
    "plt.subplot(1, 3, 1)\n",
    "plt.imshow(reshape_to_rgb(img))\n",
    "plt.subplot(1, 3, 2)\n",
    "plt.imshow(to_n_channel_pred_single(labels.data.cpu()), \n",
    "           cmap = \"gray\")\n",
    "plt.subplot(1, 3, 3)\n",
    "plt.imshow(resnetv50.predict(img), \n",
    "           cmap = \"gray\")"
   ]
  },
  {
   "cell_type": "code",
   "execution_count": null,
   "metadata": {},
   "outputs": [],
   "source": [
    "with open(\"pickled/training_115_144.pkl\", \"wb\") as fp: \n",
    "    torch.save(resnetv50._loader, fp)"
   ]
  },
  {
   "cell_type": "code",
   "execution_count": 12,
   "metadata": {},
   "outputs": [],
   "source": [
    "unet = ModelContainer(\n",
    "    nnet = get_instrument_segmentation_model_base(\n",
    "        Models.UNET\n",
    "    )\n",
    ")\n",
    "\n",
    "unet.load_loader(\"training\\\\pickled\\\\unet_128_160.pkl\")\n",
    "state_dict = torch.load(\"training\\\\pickled\\\\unet_resnet50_torch.pkl\")\n",
    "unet.load_model(state_dict)"
   ]
  },
  {
   "cell_type": "code",
   "execution_count": 13,
   "metadata": {},
   "outputs": [
    {
     "name": "stdout",
     "output_type": "stream",
     "text": [
      "Dice: 97.9400098323822%\n"
     ]
    }
   ],
   "source": [
    "# Test over 50 samples\n",
    "out = unet.test(\n",
    "    unet._loader.dataset.tensors[0][:100], \n",
    "    unet._loader.dataset.tensors[1][:100]\n",
    ")\n",
    "\n",
    "print(f\"Dice: {out*100.0}%\")"
   ]
  },
  {
   "cell_type": "code",
   "execution_count": null,
   "metadata": {},
   "outputs": [],
   "source": [
    "%matplotlib qt\n",
    "plt.figure()\n",
    "img, labels = get_random_image(resnetv50._loader.dataset)\n",
    "\n",
    "plt.subplot(1, 3, 1)\n",
    "plt.imshow(reshape_to_rgb(img))\n",
    "plt.subplot(1, 3, 2)\n",
    "plt.imshow(to_n_channel_pred_single(labels.data.cpu()), \n",
    "           cmap = \"gray\")\n",
    "plt.subplot(1, 3, 3)\n",
    "plt.imshow(resnetv50.predict(img), \n",
    "           cmap = \"gray\")"
   ]
  }
 ],
 "metadata": {
  "kernelspec": {
   "display_name": "base",
   "language": "python",
   "name": "python3"
  },
  "language_info": {
   "codemirror_mode": {
    "name": "ipython",
    "version": 3
   },
   "file_extension": ".py",
   "mimetype": "text/x-python",
   "name": "python",
   "nbconvert_exporter": "python",
   "pygments_lexer": "ipython3",
   "version": "3.11.3"
  }
 },
 "nbformat": 4,
 "nbformat_minor": 2
}
